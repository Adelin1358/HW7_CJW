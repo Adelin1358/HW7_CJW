{
 "cells": [
  {
   "cell_type": "code",
   "execution_count": 23,
   "id": "051a5fe0",
   "metadata": {},
   "outputs": [
    {
     "name": "stdout",
     "output_type": "stream",
     "text": [
      "Eigenvalues:  \n",
      " [-0.37228132  5.37228132]\n",
      "\n",
      "Eigenvectors: \n",
      " [[-0.82456484 -0.41597356]\n",
      " [ 0.56576746 -0.90937671]]\n",
      "\n",
      "Determinant: \n",
      " -2.0000000000000004\n",
      "\n",
      "Cross product: \n",
      " [-3  6 -3]\n",
      "\n",
      "Solution: \n",
      " [[-1.]\n",
      " [-4.]\n",
      " [ 3.]]\n"
     ]
    }
   ],
   "source": [
    "import numpy as np\n",
    "arr=np.array([[1,2],[3,4]])\n",
    "\n",
    "eig_val, eig_vec=np.linalg.eig(arr)\n",
    "det=np.linalg.det(arr)\n",
    "\n",
    "print(\"Eigenvalues:  \\n\",eig_val)\n",
    "print(\"\\nEigenvectors: \\n\",eig_vec)\n",
    "print(\"\\nDeterminant: \\n\",det)\n",
    "\n",
    "vec1 = np.array([1, 2, 3])\n",
    "vec2 = np.array([4, 5, 6])\n",
    "cross=np.cross(vec1,vec2)\n",
    "print(\"\\nCross product: \\n\",cross)\n",
    "\n",
    "coefficients = np.array([[1, 2, -2], [2, 1, -5], [1, -4, 1]])\n",
    "constants = np.array([[-15], [-21], [18]])\n",
    "\n",
    "solution = np.linalg.solve(coefficients, constants)\n",
    "\n",
    "print(\"\\nSolution: \\n\",solution)"
   ]
  },
  {
   "cell_type": "code",
   "execution_count": null,
   "id": "f5fe8682",
   "metadata": {},
   "outputs": [],
   "source": []
  }
 ],
 "metadata": {
  "kernelspec": {
   "display_name": "Python 3 (ipykernel)",
   "language": "python",
   "name": "python3"
  },
  "language_info": {
   "codemirror_mode": {
    "name": "ipython",
    "version": 3
   },
   "file_extension": ".py",
   "mimetype": "text/x-python",
   "name": "python",
   "nbconvert_exporter": "python",
   "pygments_lexer": "ipython3",
   "version": "3.11.3"
  }
 },
 "nbformat": 4,
 "nbformat_minor": 5
}
