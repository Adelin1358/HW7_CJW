{
 "cells": [
  {
   "cell_type": "code",
   "execution_count": 2,
   "id": "7a6d343d",
   "metadata": {},
   "outputs": [
    {
     "name": "stdout",
     "output_type": "stream",
     "text": [
      "doc1: 0.58\n",
      "doc2: 0.87\n",
      "doc3: 0.67\n"
     ]
    }
   ],
   "source": [
    "import numpy as np\n",
    "\n",
    "docs = np.array([[1, 1, 0, 1, 0, 1],\n",
    "                 [1, 1, 1, 0, 1, 0],\n",
    "                 [1, 1, 0, 1, 0, 0]])\n",
    "\n",
    "query = np.array([1, 1, 0, 0, 1, 0])\n",
    "\n",
    "docs_norm = np.linalg.norm(docs, axis=1)\n",
    "query_norm = np.linalg.norm(query)\n",
    "\n",
    "docs_dot_query = np.dot(docs, query)\n",
    "\n",
    "cosine_similarity = docs_dot_query / (docs_norm * query_norm)\n",
    "\n",
    "for i, similarity in enumerate(cosine_similarity):\n",
    "    print(f\"doc{i+1}: {similarity:.2f}\")\n"
   ]
  },
  {
   "cell_type": "code",
   "execution_count": null,
   "id": "9cadeeb5",
   "metadata": {},
   "outputs": [],
   "source": []
  }
 ],
 "metadata": {
  "kernelspec": {
   "display_name": "Python 3 (ipykernel)",
   "language": "python",
   "name": "python3"
  },
  "language_info": {
   "codemirror_mode": {
    "name": "ipython",
    "version": 3
   },
   "file_extension": ".py",
   "mimetype": "text/x-python",
   "name": "python",
   "nbconvert_exporter": "python",
   "pygments_lexer": "ipython3",
   "version": "3.11.3"
  }
 },
 "nbformat": 4,
 "nbformat_minor": 5
}
