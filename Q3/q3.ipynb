{
 "cells": [
  {
   "cell_type": "code",
   "execution_count": 3,
   "id": "b06c0132",
   "metadata": {},
   "outputs": [
    {
     "name": "stdout",
     "output_type": "stream",
     "text": [
      "단가와 개수로 이루어진 데이터 프레임:\n",
      "        unit price  number\n",
      "store1        1000      25\n",
      "store2         280     120\n",
      "store3         900      30\n",
      "\n",
      "총 가격이 추가된 데이터 프레임:\n",
      "        unit price  number  total price\n",
      "store1        1000      25        25000\n",
      "store2         280     120        33600\n",
      "store3         900      30        27000\n",
      "\n",
      "가장 비싼 가계 (상위 2개):\n",
      "        unit price  number  total price\n",
      "store2         280     120        33600\n",
      "store3         900      30        27000\n"
     ]
    }
   ],
   "source": [
    "import pandas as pd\n",
    "import numpy as np\n",
    "\n",
    "# 단가와 개수로 이루어진 데이터 프레임 생성\n",
    "data = {'unit price': [1000, 280, 900],'number': [25, 120, 30]}\n",
    "df = pd.DataFrame(data, index=['store1', 'store2', 'store3'])\n",
    "print(\"단가와 개수로 이루어진 데이터 프레임:\")\n",
    "print(df)\n",
    "\n",
    "# 총 가격 계산하여 데이터 프레임에 추가\n",
    "df['total price'] = df['unit price'] * df['number']\n",
    "print(\"\\n총 가격이 추가된 데이터 프레임:\")\n",
    "print(df)\n",
    "\n",
    "# 총 가격을 기준으로 내림차순 정렬하여 가장 비싼 가계 출력\n",
    "sorted_df = df.sort_values(by='total price', ascending=False)\n",
    "print(\"\\n가장 비싼 가계 (상위 2개):\")\n",
    "print(sorted_df.head(2))"
   ]
  },
  {
   "cell_type": "code",
   "execution_count": null,
   "id": "5cc95094",
   "metadata": {},
   "outputs": [],
   "source": []
  }
 ],
 "metadata": {
  "kernelspec": {
   "display_name": "Python 3 (ipykernel)",
   "language": "python",
   "name": "python3"
  },
  "language_info": {
   "codemirror_mode": {
    "name": "ipython",
    "version": 3
   },
   "file_extension": ".py",
   "mimetype": "text/x-python",
   "name": "python",
   "nbconvert_exporter": "python",
   "pygments_lexer": "ipython3",
   "version": "3.11.3"
  }
 },
 "nbformat": 4,
 "nbformat_minor": 5
}
