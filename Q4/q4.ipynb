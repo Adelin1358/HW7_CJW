{
 "cells": [
  {
   "cell_type": "code",
   "execution_count": 1,
   "id": "551f42e4",
   "metadata": {},
   "outputs": [
    {
     "name": "stdout",
     "output_type": "stream",
     "text": [
      "                          Total      Male    Female\n",
      "행정구역                                               \n",
      "전국  (0000000000)       51439038  25636951  25802087\n",
      "서울특별시  (1100000000)     9428372   4570048   4858324\n",
      "부산광역시  (2600000000)     3317812   1619915   1697897\n",
      "대구광역시  (2700000000)     2363691   1162865   1200826\n",
      "인천광역시  (2800000000)     2967314   1485175   1482139\n",
      "광주광역시  (2900000000)     1431050    707299    723751\n",
      "대전광역시  (3000000000)     1446072    721245    724827\n",
      "울산광역시  (3100000000)     1110663    570368    540295\n",
      "세종특별자치시  (3600000000)    383591    191389    192202\n",
      "경기도  (4100000000)      13589432   6839276   6750156\n",
      "강원도  (4200000000)       1536498    772947    763551\n",
      "충청북도  (4300000000)      1595058    810782    784276\n",
      "충청남도  (4400000000)      2123037   1086632   1036405\n",
      "전라북도  (4500000000)      1769607    880592    889015\n",
      "전라남도  (4600000000)      1817697    915272    902425\n",
      "경상북도  (4700000000)      2600492   1311881   1288611\n",
      "경상남도  (4800000000)      3280493   1651675   1628818\n",
      "제주특별자치도  (5000000000)    678159    339590    338569\n"
     ]
    }
   ],
   "source": [
    "import pandas as pd\n",
    "\n",
    "# gender2.csv 파일을 pd.read_csv()로 읽어오기\n",
    "df = pd.read_csv('gender2.csv', encoding='ANSI', index_col=0)\n",
    "\n",
    "# 필요한 columns 선택하여 새로운 DataFrame 생성\n",
    "new_df = df[[\"2022년_계_총인구수\", \"2022년_남_총인구수\", \"2022년_여_총인구수\"]]\n",
    "\n",
    "# columns 이름 변경\n",
    "new_df.columns = [\"Total\", \"Male\", \"Female\"]\n",
    "\n",
    "# ',' 제거하고 정수형으로 변환\n",
    "new_df = new_df.replace(',', '', regex=True).astype(int)\n",
    "\n",
    "# 최종 DataFrame 출력\n",
    "print(new_df)"
   ]
  },
  {
   "cell_type": "code",
   "execution_count": null,
   "id": "cd8a6e8a",
   "metadata": {},
   "outputs": [],
   "source": []
  }
 ],
 "metadata": {
  "kernelspec": {
   "display_name": "Python 3 (ipykernel)",
   "language": "python",
   "name": "python3"
  },
  "language_info": {
   "codemirror_mode": {
    "name": "ipython",
    "version": 3
   },
   "file_extension": ".py",
   "mimetype": "text/x-python",
   "name": "python",
   "nbconvert_exporter": "python",
   "pygments_lexer": "ipython3",
   "version": "3.11.3"
  }
 },
 "nbformat": 4,
 "nbformat_minor": 5
}
